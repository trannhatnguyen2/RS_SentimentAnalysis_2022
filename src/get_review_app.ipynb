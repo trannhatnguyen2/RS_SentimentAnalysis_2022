{
 "cells": [
  {
   "cell_type": "code",
   "execution_count": 1,
   "metadata": {},
   "outputs": [],
   "source": [
    "import pandas as pd\n",
    "import numpy as np\n",
    "import matplotlib.pyplot as plt\n",
    "import seaborn as sns\n",
    "from google_play_scraper import app, Sort, reviews_all"
   ]
  },
  {
   "cell_type": "code",
   "execution_count": 21,
   "metadata": {},
   "outputs": [
    {
     "data": {
      "text/html": [
       "<div>\n",
       "<style scoped>\n",
       "    .dataframe tbody tr th:only-of-type {\n",
       "        vertical-align: middle;\n",
       "    }\n",
       "\n",
       "    .dataframe tbody tr th {\n",
       "        vertical-align: top;\n",
       "    }\n",
       "\n",
       "    .dataframe thead th {\n",
       "        text-align: right;\n",
       "    }\n",
       "</style>\n",
       "<table border=\"1\" class=\"dataframe\">\n",
       "  <thead>\n",
       "    <tr style=\"text-align: right;\">\n",
       "      <th></th>\n",
       "      <th>reviewId</th>\n",
       "      <th>userName</th>\n",
       "      <th>userImage</th>\n",
       "      <th>content</th>\n",
       "      <th>score</th>\n",
       "      <th>thumbsUpCount</th>\n",
       "      <th>reviewCreatedVersion</th>\n",
       "      <th>at</th>\n",
       "      <th>replyContent</th>\n",
       "      <th>repliedAt</th>\n",
       "    </tr>\n",
       "  </thead>\n",
       "  <tbody>\n",
       "    <tr>\n",
       "      <th>0</th>\n",
       "      <td>961993f1-dd49-4835-98e7-9148bcc1c7a4</td>\n",
       "      <td>TRẦN TUẤN ĐẠT</td>\n",
       "      <td>https://play-lh.googleusercontent.com/a-/ACB-R...</td>\n",
       "      <td>Ok</td>\n",
       "      <td>5</td>\n",
       "      <td>0</td>\n",
       "      <td>52.2</td>\n",
       "      <td>2023-04-30 12:14:26</td>\n",
       "      <td>None</td>\n",
       "      <td>None</td>\n",
       "    </tr>\n",
       "    <tr>\n",
       "      <th>1</th>\n",
       "      <td>6a06e014-48c3-4cf9-8889-a1d1b41c614f</td>\n",
       "      <td>Eddie Thanh Tran</td>\n",
       "      <td>https://play-lh.googleusercontent.com/a-/ACB-R...</td>\n",
       "      <td>Ok</td>\n",
       "      <td>5</td>\n",
       "      <td>0</td>\n",
       "      <td>52.1</td>\n",
       "      <td>2023-04-24 01:17:43</td>\n",
       "      <td>None</td>\n",
       "      <td>None</td>\n",
       "    </tr>\n",
       "    <tr>\n",
       "      <th>2</th>\n",
       "      <td>75aa927d-4b86-437b-9cae-b5a4753e494f</td>\n",
       "      <td>NGUYỄN HẢI TẢO</td>\n",
       "      <td>https://play-lh.googleusercontent.com/a-/ACB-R...</td>\n",
       "      <td>EVT travel đã sử dụng tại Hồ Chí Minhvà đánh g...</td>\n",
       "      <td>5</td>\n",
       "      <td>0</td>\n",
       "      <td>52.0</td>\n",
       "      <td>2023-04-18 16:27:23</td>\n",
       "      <td>None</td>\n",
       "      <td>None</td>\n",
       "    </tr>\n",
       "    <tr>\n",
       "      <th>3</th>\n",
       "      <td>906f02d7-54b8-4f63-a21c-a42f0a7ce6e1</td>\n",
       "      <td>Phong thương IMAGE</td>\n",
       "      <td>https://play-lh.googleusercontent.com/a-/ACB-R...</td>\n",
       "      <td>Đang theo dõi</td>\n",
       "      <td>5</td>\n",
       "      <td>0</td>\n",
       "      <td>52.0</td>\n",
       "      <td>2023-04-19 10:57:53</td>\n",
       "      <td>None</td>\n",
       "      <td>None</td>\n",
       "    </tr>\n",
       "    <tr>\n",
       "      <th>4</th>\n",
       "      <td>8a7a0131-c0d8-42d6-873f-5b60aead0ffc</td>\n",
       "      <td>quy duy nguyen</td>\n",
       "      <td>https://play-lh.googleusercontent.com/a-/ACB-R...</td>\n",
       "      <td>Good app</td>\n",
       "      <td>5</td>\n",
       "      <td>1</td>\n",
       "      <td>51.9</td>\n",
       "      <td>2023-04-12 08:45:57</td>\n",
       "      <td>None</td>\n",
       "      <td>None</td>\n",
       "    </tr>\n",
       "  </tbody>\n",
       "</table>\n",
       "</div>"
      ],
      "text/plain": [
       "                               reviewId            userName  \\\n",
       "0  961993f1-dd49-4835-98e7-9148bcc1c7a4       TRẦN TUẤN ĐẠT   \n",
       "1  6a06e014-48c3-4cf9-8889-a1d1b41c614f    Eddie Thanh Tran   \n",
       "2  75aa927d-4b86-437b-9cae-b5a4753e494f      NGUYỄN HẢI TẢO   \n",
       "3  906f02d7-54b8-4f63-a21c-a42f0a7ce6e1  Phong thương IMAGE   \n",
       "4  8a7a0131-c0d8-42d6-873f-5b60aead0ffc      quy duy nguyen   \n",
       "\n",
       "                                           userImage  \\\n",
       "0  https://play-lh.googleusercontent.com/a-/ACB-R...   \n",
       "1  https://play-lh.googleusercontent.com/a-/ACB-R...   \n",
       "2  https://play-lh.googleusercontent.com/a-/ACB-R...   \n",
       "3  https://play-lh.googleusercontent.com/a-/ACB-R...   \n",
       "4  https://play-lh.googleusercontent.com/a-/ACB-R...   \n",
       "\n",
       "                                             content  score  thumbsUpCount  \\\n",
       "0                                                 Ok      5              0   \n",
       "1                                                 Ok      5              0   \n",
       "2  EVT travel đã sử dụng tại Hồ Chí Minhvà đánh g...      5              0   \n",
       "3                                      Đang theo dõi      5              0   \n",
       "4                                           Good app      5              1   \n",
       "\n",
       "  reviewCreatedVersion                  at replyContent repliedAt  \n",
       "0                 52.2 2023-04-30 12:14:26         None      None  \n",
       "1                 52.1 2023-04-24 01:17:43         None      None  \n",
       "2                 52.0 2023-04-18 16:27:23         None      None  \n",
       "3                 52.0 2023-04-19 10:57:53         None      None  \n",
       "4                 51.9 2023-04-12 08:45:57         None      None  "
      ]
     },
     "execution_count": 21,
     "metadata": {},
     "output_type": "execute_result"
    }
   ],
   "source": [
    "app_review = reviews_all(\n",
    "    'com.tripadvisor.tripadvisor',\n",
    "    sleep_milliseconds = 0,\n",
    "    lang = 'vi', \n",
    "    country = 'vn', \n",
    "    sort = Sort.MOST_RELEVANT\n",
    ")\n",
    "\n",
    "df_reviews = pd.DataFrame(np.array(app_review),columns = ['review'])\n",
    "df_reviews = df_reviews.join(pd.DataFrame(df_reviews.pop('review').tolist()))\n",
    "\n",
    "df_reviews.head()"
   ]
  },
  {
   "cell_type": "code",
   "execution_count": 22,
   "metadata": {},
   "outputs": [
    {
     "name": "stdout",
     "output_type": "stream",
     "text": [
      "<class 'pandas.core.frame.DataFrame'>\n",
      "RangeIndex: 2278 entries, 0 to 2277\n",
      "Data columns (total 10 columns):\n",
      " #   Column                Non-Null Count  Dtype         \n",
      "---  ------                --------------  -----         \n",
      " 0   reviewId              2278 non-null   object        \n",
      " 1   userName              2278 non-null   object        \n",
      " 2   userImage             2278 non-null   object        \n",
      " 3   content               2268 non-null   object        \n",
      " 4   score                 2278 non-null   int64         \n",
      " 5   thumbsUpCount         2278 non-null   int64         \n",
      " 6   reviewCreatedVersion  1900 non-null   object        \n",
      " 7   at                    2278 non-null   datetime64[ns]\n",
      " 8   replyContent          0 non-null      object        \n",
      " 9   repliedAt             0 non-null      object        \n",
      "dtypes: datetime64[ns](1), int64(2), object(7)\n",
      "memory usage: 178.1+ KB\n"
     ]
    }
   ],
   "source": [
    "df_reviews.info()"
   ]
  },
  {
   "cell_type": "code",
   "execution_count": 23,
   "metadata": {},
   "outputs": [
    {
     "data": {
      "text/plain": [
       "5    1515\n",
       "1     396\n",
       "4     271\n",
       "3      71\n",
       "2      25\n",
       "Name: score, dtype: int64"
      ]
     },
     "execution_count": 23,
     "metadata": {},
     "output_type": "execute_result"
    }
   ],
   "source": [
    "df_reviews['score'].value_counts()"
   ]
  },
  {
   "cell_type": "code",
   "execution_count": 24,
   "metadata": {},
   "outputs": [
    {
     "data": {
      "text/plain": [
       "<AxesSubplot:ylabel='score'>"
      ]
     },
     "execution_count": 24,
     "metadata": {},
     "output_type": "execute_result"
    },
    {
     "data": {
      "image/png": "[encoded data removed]",
      "text/plain": [
       "<Figure size 576x576 with 1 Axes>"
      ]
     },
     "metadata": {},
     "output_type": "display_data"
    }
   ],
   "source": [
    "df_reviews['score'].value_counts().plot(kind='pie',figsize=(8,8),autopct='%1.1f%%')"
   ]
  },
  {
   "cell_type": "code",
   "execution_count": 25,
   "metadata": {},
   "outputs": [
    {
     "name": "stdout",
     "output_type": "stream",
     "text": [
      "DataFrame is written to Excel File successfully.\n"
     ]
    },
    {
     "data": {
      "text/html": [
       "<div>\n",
       "<style scoped>\n",
       "    .dataframe tbody tr th:only-of-type {\n",
       "        vertical-align: middle;\n",
       "    }\n",
       "\n",
       "    .dataframe tbody tr th {\n",
       "        vertical-align: top;\n",
       "    }\n",
       "\n",
       "    .dataframe thead th {\n",
       "        text-align: right;\n",
       "    }\n",
       "</style>\n",
       "<table border=\"1\" class=\"dataframe\">\n",
       "  <thead>\n",
       "    <tr style=\"text-align: right;\">\n",
       "      <th></th>\n",
       "      <th>userName</th>\n",
       "      <th>content</th>\n",
       "      <th>at</th>\n",
       "      <th>score</th>\n",
       "      <th>thumbsUpCount</th>\n",
       "      <th>address</th>\n",
       "    </tr>\n",
       "  </thead>\n",
       "  <tbody>\n",
       "    <tr>\n",
       "      <th>0</th>\n",
       "      <td>TRẦN TUẤN ĐẠT</td>\n",
       "      <td>Ok</td>\n",
       "      <td>2023-04-30 12:14:26</td>\n",
       "      <td>5</td>\n",
       "      <td>0</td>\n",
       "      <td>Tripadvisor</td>\n",
       "    </tr>\n",
       "    <tr>\n",
       "      <th>1</th>\n",
       "      <td>Eddie Thanh Tran</td>\n",
       "      <td>Ok</td>\n",
       "      <td>2023-04-24 01:17:43</td>\n",
       "      <td>5</td>\n",
       "      <td>0</td>\n",
       "      <td>Tripadvisor</td>\n",
       "    </tr>\n",
       "    <tr>\n",
       "      <th>2</th>\n",
       "      <td>NGUYỄN HẢI TẢO</td>\n",
       "      <td>EVT travel đã sử dụng tại Hồ Chí Minhvà đánh g...</td>\n",
       "      <td>2023-04-18 16:27:23</td>\n",
       "      <td>5</td>\n",
       "      <td>0</td>\n",
       "      <td>Tripadvisor</td>\n",
       "    </tr>\n",
       "    <tr>\n",
       "      <th>3</th>\n",
       "      <td>Phong thương IMAGE</td>\n",
       "      <td>Đang theo dõi</td>\n",
       "      <td>2023-04-19 10:57:53</td>\n",
       "      <td>5</td>\n",
       "      <td>0</td>\n",
       "      <td>Tripadvisor</td>\n",
       "    </tr>\n",
       "    <tr>\n",
       "      <th>4</th>\n",
       "      <td>quy duy nguyen</td>\n",
       "      <td>Good app</td>\n",
       "      <td>2023-04-12 08:45:57</td>\n",
       "      <td>5</td>\n",
       "      <td>1</td>\n",
       "      <td>Tripadvisor</td>\n",
       "    </tr>\n",
       "  </tbody>\n",
       "</table>\n",
       "</div>"
      ],
      "text/plain": [
       "             userName                                            content  \\\n",
       "0       TRẦN TUẤN ĐẠT                                                 Ok   \n",
       "1    Eddie Thanh Tran                                                 Ok   \n",
       "2      NGUYỄN HẢI TẢO  EVT travel đã sử dụng tại Hồ Chí Minhvà đánh g...   \n",
       "3  Phong thương IMAGE                                      Đang theo dõi   \n",
       "4      quy duy nguyen                                           Good app   \n",
       "\n",
       "                   at  score  thumbsUpCount      address  \n",
       "0 2023-04-30 12:14:26      5              0  Tripadvisor  \n",
       "1 2023-04-24 01:17:43      5              0  Tripadvisor  \n",
       "2 2023-04-18 16:27:23      5              0  Tripadvisor  \n",
       "3 2023-04-19 10:57:53      5              0  Tripadvisor  \n",
       "4 2023-04-12 08:45:57      5              1  Tripadvisor  "
      ]
     },
     "execution_count": 25,
     "metadata": {},
     "output_type": "execute_result"
    }
   ],
   "source": [
    "file_name = 'reviewAppTripadvisor_new.csv'\n",
    "df_reviews_content = pd.DataFrame(df_reviews, columns=['userName','content','at','score','thumbsUpCount'])\n",
    "df_reviews_content['address'] = \"Tripadvisor\"\n",
    "df_reviews_content.to_csv(file_name)\n",
    "print('DataFrame is written to Excel File successfully.')\n",
    "df_reviews_content.head()"
   ]
  }
 ],
 "metadata": {
  "kernelspec": {
   "display_name": "Python 3.9.8 64-bit",
   "language": "python",
   "name": "python3"
  },
  "language_info": {
   "codemirror_mode": {
    "name": "ipython",
    "version": 3
   },
   "file_extension": ".py",
   "mimetype": "text/x-python",
   "name": "python",
   "nbconvert_exporter": "python",
   "pygments_lexer": "ipython3",
   "version": "3.9.8"
  },
  "orig_nbformat": 4,
  "vscode": {
   "interpreter": {
    "hash": "c081257499a92776a7ff5343ee4d85420a7950a6ae97b0cb2aee7a7ddd41b7f2"
   }
  }
 },
 "nbformat": 4,
 "nbformat_minor": 2
}
